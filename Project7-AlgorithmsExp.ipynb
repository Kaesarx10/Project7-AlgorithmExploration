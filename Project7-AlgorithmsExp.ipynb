{
 "cells": [
  {
   "cell_type": "code",
   "execution_count": 1,
   "id": "6865fa35",
   "metadata": {},
   "outputs": [],
   "source": [
    "def bubbleSort(array):\n",
    "    swapped = False\n",
    "    for i in range(len(array)-1,0,-1):\n",
    "        for j in range(i):\n",
    "            if array[j]>array[j+1]:\n",
    "                array[j], array[j+1] = array[j+1], array[j]\n",
    "                swapped= True\n",
    "        if swapped:\n",
    "            swapped=False\n",
    "        else:\n",
    "            break\n",
    "    return array"
   ]
  },
  {
   "cell_type": "code",
   "execution_count": 86,
   "id": "5a6ca442",
   "metadata": {},
   "outputs": [],
   "source": [
    "a = [56,7,45,55,67,23,2,4,6,8,10,13]"
   ]
  },
  {
   "cell_type": "code",
   "execution_count": 10,
   "id": "ab3aee8e",
   "metadata": {},
   "outputs": [
    {
     "data": {
      "text/plain": [
       "[2, 4, 6, 7, 8, 10, 13, 23, 45, 55, 56, 67]"
      ]
     },
     "execution_count": 10,
     "metadata": {},
     "output_type": "execute_result"
    }
   ],
   "source": [
    "bubbleSort(a)"
   ]
  },
  {
   "cell_type": "code",
   "execution_count": 59,
   "id": "5ca93799",
   "metadata": {},
   "outputs": [
    {
     "data": {
      "text/plain": [
       "7"
      ]
     },
     "execution_count": 59,
     "metadata": {},
     "output_type": "execute_result"
    }
   ],
   "source": [
    "a[1]"
   ]
  },
  {
   "cell_type": "code",
   "execution_count": 92,
   "id": "1a3b1e56",
   "metadata": {},
   "outputs": [
    {
     "data": {
      "text/plain": [
       "[7, 45, 56, 55, 67, 23, 2, 4, 6, 8, 10, 13]"
      ]
     },
     "execution_count": 92,
     "metadata": {},
     "output_type": "execute_result"
    }
   ],
   "source": [
    "a"
   ]
  },
  {
   "cell_type": "code",
   "execution_count": 69,
   "id": "000db7f1",
   "metadata": {},
   "outputs": [
    {
     "data": {
      "text/plain": [
       "range(11, 0, -1)"
      ]
     },
     "execution_count": 69,
     "metadata": {},
     "output_type": "execute_result"
    }
   ],
   "source": [
    "range(len(a)-1,0,-1)"
   ]
  },
  {
   "cell_type": "code",
   "execution_count": 70,
   "id": "99535b85",
   "metadata": {},
   "outputs": [
    {
     "data": {
      "text/plain": [
       "[11, 10, 9, 8, 7, 6, 5, 4, 3, 2, 1]"
      ]
     },
     "execution_count": 70,
     "metadata": {},
     "output_type": "execute_result"
    }
   ],
   "source": [
    "[*range(len(a)-1,0,-1)]"
   ]
  },
  {
   "cell_type": "code",
   "execution_count": 71,
   "id": "0b8343fa",
   "metadata": {},
   "outputs": [
    {
     "data": {
      "text/plain": [
       "[0, 1, 2, 3, 4, 5, 6, 7, 8, 9, 10]"
      ]
     },
     "execution_count": 71,
     "metadata": {},
     "output_type": "execute_result"
    }
   ],
   "source": [
    "[*range(11)]"
   ]
  },
  {
   "cell_type": "code",
   "execution_count": 94,
   "id": "c131dd4f",
   "metadata": {},
   "outputs": [
    {
     "data": {
      "text/plain": [
       "13"
      ]
     },
     "execution_count": 94,
     "metadata": {},
     "output_type": "execute_result"
    }
   ],
   "source": [
    "a[10+1]"
   ]
  },
  {
   "cell_type": "code",
   "execution_count": 97,
   "id": "67c52f7c",
   "metadata": {},
   "outputs": [
    {
     "data": {
      "text/plain": [
       "True"
      ]
     },
     "execution_count": 97,
     "metadata": {},
     "output_type": "execute_result"
    }
   ],
   "source": [
    "a[2]>a[3]"
   ]
  },
  {
   "cell_type": "code",
   "execution_count": 98,
   "id": "ef6c5826",
   "metadata": {},
   "outputs": [],
   "source": [
    "a[2], a[3] = a[3], a[2]"
   ]
  },
  {
   "cell_type": "code",
   "execution_count": 99,
   "id": "d3d50b55",
   "metadata": {},
   "outputs": [
    {
     "data": {
      "text/plain": [
       "[7, 45, 55, 56, 67, 23, 2, 4, 6, 8, 10, 13]"
      ]
     },
     "execution_count": 99,
     "metadata": {},
     "output_type": "execute_result"
    }
   ],
   "source": [
    "a"
   ]
  },
  {
   "cell_type": "code",
   "execution_count": null,
   "id": "e9b2662a",
   "metadata": {},
   "outputs": [],
   "source": []
  },
  {
   "cell_type": "code",
   "execution_count": null,
   "id": "1a56b293",
   "metadata": {},
   "outputs": [],
   "source": []
  },
  {
   "cell_type": "code",
   "execution_count": 66,
   "id": "19c69c9f",
   "metadata": {},
   "outputs": [
    {
     "data": {
      "text/plain": [
       "[7, 18, 45, 55, 67, 23, 2, 4, 6, 8, 10, 13]"
      ]
     },
     "execution_count": 66,
     "metadata": {},
     "output_type": "execute_result"
    }
   ],
   "source": [
    "array = [7, 18, 45, 55, 67, 23, 2, 4, 6, 8, 10, 13]\n",
    "array"
   ]
  },
  {
   "cell_type": "code",
   "execution_count": 54,
   "id": "bcc18a56",
   "metadata": {},
   "outputs": [
    {
     "data": {
      "text/plain": [
       "False"
      ]
     },
     "execution_count": 54,
     "metadata": {},
     "output_type": "execute_result"
    }
   ],
   "source": [
    "a[1]>a[2]"
   ]
  },
  {
   "cell_type": "code",
   "execution_count": 55,
   "id": "c39637bc",
   "metadata": {},
   "outputs": [],
   "source": [
    "for i in range(len(array)-1,0,-1):\n",
    "        for j in range(i):\n",
    "            if array[j]>array[j+1]:\n",
    "                array[j], array[j+1] = array[j+1], array[j]\n",
    "                swapped= True"
   ]
  },
  {
   "cell_type": "code",
   "execution_count": 56,
   "id": "9f24dddc",
   "metadata": {},
   "outputs": [
    {
     "data": {
      "text/plain": [
       "[2, 4, 6, 7, 8, 10, 13, 18, 23, 45, 55, 67]"
      ]
     },
     "execution_count": 56,
     "metadata": {},
     "output_type": "execute_result"
    }
   ],
   "source": [
    "array"
   ]
  },
  {
   "cell_type": "code",
   "execution_count": null,
   "id": "8bae9a24",
   "metadata": {},
   "outputs": [],
   "source": []
  }
 ],
 "metadata": {
  "kernelspec": {
   "display_name": "Python 3",
   "language": "python",
   "name": "python3"
  },
  "language_info": {
   "codemirror_mode": {
    "name": "ipython",
    "version": 3
   },
   "file_extension": ".py",
   "mimetype": "text/x-python",
   "name": "python",
   "nbconvert_exporter": "python",
   "pygments_lexer": "ipython3",
   "version": "3.8.5"
  }
 },
 "nbformat": 4,
 "nbformat_minor": 5
}
